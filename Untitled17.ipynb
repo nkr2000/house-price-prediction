{
 "cells": [
  {
   "cell_type": "code",
   "execution_count": null,
   "metadata": {},
   "outputs": [],
   "source": []
  },
  {
   "cell_type": "code",
   "execution_count": null,
   "metadata": {},
   "outputs": [],
   "source": []
  },
  {
   "cell_type": "code",
   "execution_count": null,
   "metadata": {},
   "outputs": [],
   "source": [
    "\n"
   ]
  },
  {
   "cell_type": "code",
   "execution_count": null,
   "metadata": {},
   "outputs": [],
   "source": [
    "\n",
    "    "
   ]
  },
  {
   "cell_type": "code",
   "execution_count": 32,
   "metadata": {},
   "outputs": [
    {
     "name": "stderr",
     "output_type": "stream",
     "text": [
      "C:\\Users\\Nithish Kumar\\Anaconda3\\lib\\site-packages\\ipykernel_launcher.py:7: FutureWarning: Sorting because non-concatenation axis is not aligned. A future version\n",
      "of pandas will change to not sort by default.\n",
      "\n",
      "To accept the future behavior, pass 'sort=False'.\n",
      "\n",
      "To retain the current behavior and silence the warning, pass 'sort=True'.\n",
      "\n",
      "  import sys\n"
     ]
    }
   ],
   "source": [
    "import numpy as np\n",
    "import pandas as pd\n",
    "import seaborn as sns\n",
    "import matplotlib.pyplot as plt\n",
    "df=pd.read_csv('train.csv')\n",
    "df1=pd.read_csv('test.csv')\n",
    "df2=pd.concat([df,df1],axis=0)\n",
    "data=df2.copy()\n",
    "data.drop(['SalePrice'],axis=1,inplace=True)\n",
    "data.drop(['Fence','MiscFeature','MiscFeature','PoolQC','Alley'],axis=1,inplace=True)\n",
    "cor=data.corr()\n",
    "data['YrSold']=data['YrSold'].apply(str)\n",
    "data['YearBuilt']=data['YearBuilt'].apply(str)\n",
    "data['YearRemodAdd']=data['YearRemodAdd'].apply(str)\n",
    "data['FireplaceQu'].fillna(value='None',inplace=True)\n",
    "#check distribution after log transform.\n"
   ]
  },
  {
   "cell_type": "code",
   "execution_count": 119,
   "metadata": {},
   "outputs": [
    {
     "data": {
      "text/plain": [
       "(2919, 77)"
      ]
     },
     "execution_count": 119,
     "metadata": {},
     "output_type": "execute_result"
    }
   ],
   "source": [
    "data.shape"
   ]
  },
  {
   "cell_type": "code",
   "execution_count": 120,
   "metadata": {},
   "outputs": [
    {
     "data": {
      "text/plain": [
       "(1460, 81)"
      ]
     },
     "execution_count": 120,
     "metadata": {},
     "output_type": "execute_result"
    }
   ],
   "source": [
    "df.shape"
   ]
  },
  {
   "cell_type": "code",
   "execution_count": 62,
   "metadata": {},
   "outputs": [
    {
     "data": {
      "image/png": "[encoded data removed]",
      "text/plain": [
       "<Figure size 1080x432 with 2 Axes>"
      ]
     },
     "metadata": {
      "needs_background": "light"
     },
     "output_type": "display_data"
    }
   ],
   "source": [
    "numerical=data.select_dtypes(include=['int64','float64'])\n",
    "numerical.isnull().sum()\n",
    "from scipy.stats import skew\n",
    "def impute_na(data, variable):\n",
    "    # function to fill na with a random sample\n",
    "    df = data.copy()\n",
    "    \n",
    "    # random sampling\n",
    "    df[variable+'_random'] = df[variable]\n",
    "    \n",
    "    # extract the random sample to fill the na\n",
    "    random_sample = df[variable].dropna().sample(df[variable].isnull().sum(), random_state=0)\n",
    "    \n",
    "    # pandas needs to have the same index in order to merge datasets\n",
    "    random_sample.index = df[df[variable].isnull()].index\n",
    "    df.loc[df[variable].isnull(), variable+'_random'] = random_sample\n",
    "    \n",
    "    return df[variable+'_random']\n",
    "data['LotFrontage']=impute_na(data,'LotFrontage')\n",
    "import scipy.stats as stats\n",
    "def diagnostic_plots(df, variable):\n",
    "    # function to plot a histogram and a Q-Q plot\n",
    "    # side by side, for a certain variable\n",
    "    \n",
    "    plt.figure(figsize=(15,6))\n",
    "    plt.subplot(1, 2, 1)\n",
    "    df[variable].hist()\n",
    "\n",
    "    plt.subplot(1, 2, 2)\n",
    "    stats.probplot(df[variable], dist=\"norm\", plot=plt)\n",
    "    plt.show()\n",
    "diagnostic_plots(data, 'LotFrontage')   \n",
    "columns1=['BsmtCond','BsmtExposure','BsmtFinType1','BsmtFinType2','BsmtQual','GarageCond','GarageFinish','GarageQual','GarageType']\n",
    "for col in columns1:\n",
    "    data[col].fillna('None',inplace =True)\n",
    "data['Utilities']=df['Utilities']\n",
    "columns2=['Electrical','Exterior2nd','Exterior1st','Functional','MSZoning','MasVnrType','SaleType','KitchenQual']\n",
    "for col in columns2:\n",
    "    data[col].fillna(data[col].mode()[0],inplace=True)\n",
    "category=data.select_dtypes(exclude=['int64','float64'])\n",
    "category.isnull().sum() \n",
    "numerical.isnull().sum()\n",
    "columns3 = ['GarageYrBlt', 'MasVnrArea', 'BsmtFullBath',\n",
    "       'BsmtHalfBath', 'TotalBsmtSF', 'BsmtUnfSF', 'GarageArea', 'GarageCars',\n",
    "       'BsmtFinSF2', 'BsmtFinSF1']\n",
    "for col in columns3:\n",
    "    data[col].fillna(0,inplace=True)\n",
    "from sklearn.model_selection import train_test_split\n",
    "from sklearn.model_selection import GridSearchCV\n",
    "from sklearn.model_selection import RandomizedSearchCV\n",
    "from sklearn.linear_model import ElasticNet,Lasso,Ridge\n",
    "from sklearn.model_selection import train_test_split\n",
    "from sklearn.preprocessing import MinMaxScaler\n",
    "numerical_features=data.select_dtypes(['int64','float64']).columns\n",
    "skewed_feats=data[numerical_features].apply(lambda x: x.skew()).sort_values(ascending=False)\n",
    "from scipy.special import boxcox1p\n",
    "from scipy.stats import boxcox_normmax\n",
    "\n",
    "high_skew = skewed_feats[skewed_feats > 0.5]\n",
    "skew_index = high_skew.index\n",
    "\n",
    "# Normalise skewed features\n",
    "for i in skew_index:\n",
    "    data[i] = boxcox1p(data[i], boxcox_normmax(data[i] + 1))\n",
    "final_features = pd.get_dummies(data).reset_index(drop=True)"
   ]
  },
  {
   "cell_type": "code",
   "execution_count": 34,
   "metadata": {},
   "outputs": [
    {
     "name": "stdout",
     "output_type": "stream",
     "text": [
      "{'alpha': 0.001, 'max_iter': 100}\n",
      "0.9027128150046035\n",
      "{'alpha': 0.001, 'max_iter': 100}\n",
      "0.9008690790652079\n"
     ]
    },
    {
     "data": {
      "text/plain": [
       "array([11.64276903, 11.91590676, 12.06415212, ..., 11.96637227,\n",
       "       11.64580663, 12.27568946])"
      ]
     },
     "execution_count": 34,
     "metadata": {},
     "output_type": "execute_result"
    }
   ],
   "source": [
    "x_train=final_features[:1460]\n",
    "x_train.shape\n",
    "y_train=np.log(df['SalePrice']+1)\n",
    "x_test=final_features[1460:]\n",
    "param={\n",
    "    'alpha':[0.001,0.1,1,10,55,100,1000],\n",
    "    'max_iter':[100,150,200,500],\n",
    "}\n",
    "from sklearn.preprocessing import MinMaxScaler\n",
    "scale=MinMaxScaler()\n",
    "grid_reg1=GridSearchCV(estimator=ElasticNet(),param_grid=param,scoring='r2',n_jobs=-1,cv=5)\n",
    "grid_reg2=GridSearchCV(estimator=Lasso(),param_grid=param,scoring='r2',n_jobs=-1,cv=5)\n",
    "\n",
    "grid_reg1.fit(scale.fit_transform(x_train),y_train)\n",
    "grid_reg2.fit(scale.fit_transform(x_train),y_train)\n",
    "y_pred1=grid_reg1.predict(scale.fit_transform(x_test))\n",
    "y_pred2=grid_reg2.predict(scale.fit_transform(x_test))\n",
    "print(grid_reg1.best_params_)\n",
    "print(grid_reg1.best_score_)\n",
    "print(grid_reg2.best_params_)\n",
    "print(grid_reg2.best_score_)\n",
    "y_pred1"
   ]
  },
  {
   "cell_type": "code",
   "execution_count": 112,
   "metadata": {},
   "outputs": [
    {
     "data": {
      "text/html": [
       "<div>\n",
       "<style scoped>\n",
       "    .dataframe tbody tr th:only-of-type {\n",
       "        vertical-align: middle;\n",
       "    }\n",
       "\n",
       "    .dataframe tbody tr th {\n",
       "        vertical-align: top;\n",
       "    }\n",
       "\n",
       "    .dataframe thead th {\n",
       "        text-align: right;\n",
       "    }\n",
       "</style>\n",
       "<table border=\"1\" class=\"dataframe\">\n",
       "  <thead>\n",
       "    <tr style=\"text-align: right;\">\n",
       "      <th></th>\n",
       "      <th>0</th>\n",
       "    </tr>\n",
       "  </thead>\n",
       "  <tbody>\n",
       "    <tr>\n",
       "      <td>0</td>\n",
       "      <td>112555.038930</td>\n",
       "    </tr>\n",
       "    <tr>\n",
       "      <td>1</td>\n",
       "      <td>150548.808073</td>\n",
       "    </tr>\n",
       "    <tr>\n",
       "      <td>2</td>\n",
       "      <td>172920.283187</td>\n",
       "    </tr>\n",
       "    <tr>\n",
       "      <td>3</td>\n",
       "      <td>190043.882568</td>\n",
       "    </tr>\n",
       "    <tr>\n",
       "      <td>4</td>\n",
       "      <td>190359.653031</td>\n",
       "    </tr>\n",
       "    <tr>\n",
       "      <td>...</td>\n",
       "      <td>...</td>\n",
       "    </tr>\n",
       "    <tr>\n",
       "      <td>1454</td>\n",
       "      <td>82247.506626</td>\n",
       "    </tr>\n",
       "    <tr>\n",
       "      <td>1455</td>\n",
       "      <td>80070.846116</td>\n",
       "    </tr>\n",
       "    <tr>\n",
       "      <td>1456</td>\n",
       "      <td>156164.743630</td>\n",
       "    </tr>\n",
       "    <tr>\n",
       "      <td>1457</td>\n",
       "      <td>114775.178949</td>\n",
       "    </tr>\n",
       "    <tr>\n",
       "      <td>1458</td>\n",
       "      <td>215587.773750</td>\n",
       "    </tr>\n",
       "  </tbody>\n",
       "</table>\n",
       "<p>1459 rows × 1 columns</p>\n",
       "</div>"
      ],
      "text/plain": [
       "                  0\n",
       "0     112555.038930\n",
       "1     150548.808073\n",
       "2     172920.283187\n",
       "3     190043.882568\n",
       "4     190359.653031\n",
       "...             ...\n",
       "1454   82247.506626\n",
       "1455   80070.846116\n",
       "1456  156164.743630\n",
       "1457  114775.178949\n",
       "1458  215587.773750\n",
       "\n",
       "[1459 rows x 1 columns]"
      ]
     },
     "execution_count": 112,
     "metadata": {},
     "output_type": "execute_result"
    }
   ],
   "source": [
    "y_pred=(y_pred1+y_pred2)/2\n",
    "y_pred=np.expm1(y_pred)\n",
    "y_pred=pd.DataFrame(y_pred)\n",
    "sub_df=pd.read_csv('sample_submission.csv')\n",
    "datasets=pd.concat([sub_df['Id'],y_pred],axis=1)\n",
    "datasets.columns=['Id','SalePrice']\n",
    "datasets.to_csv('sample_submission.csv',index=False)\n",
    "y_pred\n"
   ]
  },
  {
   "cell_type": "code",
   "execution_count": 111,
   "metadata": {},
   "outputs": [
    {
     "data": {
      "text/html": [
       "<div>\n",
       "<style scoped>\n",
       "    .dataframe tbody tr th:only-of-type {\n",
       "        vertical-align: middle;\n",
       "    }\n",
       "\n",
       "    .dataframe tbody tr th {\n",
       "        vertical-align: top;\n",
       "    }\n",
       "\n",
       "    .dataframe thead th {\n",
       "        text-align: right;\n",
       "    }\n",
       "</style>\n",
       "<table border=\"1\" class=\"dataframe\">\n",
       "  <thead>\n",
       "    <tr style=\"text-align: right;\">\n",
       "      <th></th>\n",
       "      <th>Id</th>\n",
       "      <th>SalePrice</th>\n",
       "    </tr>\n",
       "  </thead>\n",
       "  <tbody>\n",
       "    <tr>\n",
       "      <td>0</td>\n",
       "      <td>1461</td>\n",
       "      <td>112555.038930</td>\n",
       "    </tr>\n",
       "    <tr>\n",
       "      <td>1</td>\n",
       "      <td>1462</td>\n",
       "      <td>150548.808073</td>\n",
       "    </tr>\n",
       "    <tr>\n",
       "      <td>2</td>\n",
       "      <td>1463</td>\n",
       "      <td>172920.283187</td>\n",
       "    </tr>\n",
       "    <tr>\n",
       "      <td>3</td>\n",
       "      <td>1464</td>\n",
       "      <td>190043.882568</td>\n",
       "    </tr>\n",
       "    <tr>\n",
       "      <td>4</td>\n",
       "      <td>1465</td>\n",
       "      <td>190359.653031</td>\n",
       "    </tr>\n",
       "    <tr>\n",
       "      <td>...</td>\n",
       "      <td>...</td>\n",
       "      <td>...</td>\n",
       "    </tr>\n",
       "    <tr>\n",
       "      <td>1454</td>\n",
       "      <td>2915</td>\n",
       "      <td>82247.506626</td>\n",
       "    </tr>\n",
       "    <tr>\n",
       "      <td>1455</td>\n",
       "      <td>2916</td>\n",
       "      <td>80070.846116</td>\n",
       "    </tr>\n",
       "    <tr>\n",
       "      <td>1456</td>\n",
       "      <td>2917</td>\n",
       "      <td>156164.743630</td>\n",
       "    </tr>\n",
       "    <tr>\n",
       "      <td>1457</td>\n",
       "      <td>2918</td>\n",
       "      <td>114775.178949</td>\n",
       "    </tr>\n",
       "    <tr>\n",
       "      <td>1458</td>\n",
       "      <td>2919</td>\n",
       "      <td>215587.773750</td>\n",
       "    </tr>\n",
       "  </tbody>\n",
       "</table>\n",
       "<p>1459 rows × 2 columns</p>\n",
       "</div>"
      ],
      "text/plain": [
       "        Id      SalePrice\n",
       "0     1461  112555.038930\n",
       "1     1462  150548.808073\n",
       "2     1463  172920.283187\n",
       "3     1464  190043.882568\n",
       "4     1465  190359.653031\n",
       "...    ...            ...\n",
       "1454  2915   82247.506626\n",
       "1455  2916   80070.846116\n",
       "1456  2917  156164.743630\n",
       "1457  2918  114775.178949\n",
       "1458  2919  215587.773750\n",
       "\n",
       "[1459 rows x 2 columns]"
      ]
     },
     "execution_count": 111,
     "metadata": {},
     "output_type": "execute_result"
    }
   ],
   "source": []
  },
  {
   "cell_type": "code",
   "execution_count": 44,
   "metadata": {},
   "outputs": [
    {
     "name": "stdout",
     "output_type": "stream",
     "text": [
      "-0.04563369154312968 0.9639261272630475\n"
     ]
    }
   ],
   "source": [
    "from scipy import stats\n",
    "t_test,p_value=stats.ttest_ind(np.random.choice(y_pred2, 15),np.random.choice(y_pred1, 15))\n",
    "print(t_test,p_value)"
   ]
  },
  {
   "cell_type": "code",
   "execution_count": 40,
   "metadata": {},
   "outputs": [
    {
     "data": {
      "text/plain": [
       "array([12.0076278 , 11.74006901, 11.64833884, 12.38422302, 12.47801017,\n",
       "       12.32386013, 12.33138725, 11.79434547, 12.8642427 , 11.88449592,\n",
       "       12.09514667, 11.7745279 , 11.51193497, 11.8706069 , 12.08391066])"
      ]
     },
     "execution_count": 40,
     "metadata": {},
     "output_type": "execute_result"
    }
   ],
   "source": []
  },
  {
   "cell_type": "code",
   "execution_count": 60,
   "metadata": {},
   "outputs": [
    {
     "data": {
      "text/plain": [
       "(array([4.56808811, 2.15457778]), array([3.34151673e-05, 3.61377120e-02]))"
      ]
     },
     "execution_count": 60,
     "metadata": {},
     "output_type": "execute_result"
    }
   ],
   "source": [
    "\n",
    "rvs = stats.norm.rvs(loc=5, scale=10, size=(50,2))\n",
    "t_test,p_value=stats.ttest_1samp(rvs, 0.0)\n",
    "t_test,p_value"
   ]
  },
  {
   "cell_type": "code",
   "execution_count": 50,
   "metadata": {},
   "outputs": [
    {
     "data": {
      "text/plain": [
       "array([[ -4.79895726,  17.79988182],\n",
       "       [ -9.87171776,   7.69687637],\n",
       "       [ 10.53372884,   9.26031422],\n",
       "       [  5.31679556,   2.48011792],\n",
       "       [ 15.42908099,  -0.45409962],\n",
       "       [ -0.51043361,   3.430137  ],\n",
       "       [  2.42673666,  -7.62016006],\n",
       "       [  2.31887629,   6.84968365],\n",
       "       [ 10.86153019, -10.87011125],\n",
       "       [  8.92086222,  -3.72130293],\n",
       "       [ -5.60434889,  -2.841809  ],\n",
       "       [  8.98706034,  15.21805518],\n",
       "       [  9.52329165,  -8.23164029],\n",
       "       [  2.004064  , -13.59338081],\n",
       "       [-17.58956443,  -4.15246625],\n",
       "       [  8.66305715,  -3.1396795 ],\n",
       "       [ -6.69448622,   1.85620844],\n",
       "       [ -1.96472794,  32.07748143],\n",
       "       [  6.51502027,  -8.71602651],\n",
       "       [ 17.34226905,  -1.93725338],\n",
       "       [ -1.87980795,   3.06788397],\n",
       "       [  6.8548548 ,  -2.71141251],\n",
       "       [  3.87394628,   4.28380877],\n",
       "       [  1.78024395,   6.36149605],\n",
       "       [  2.88177593,   7.61069892],\n",
       "       [ -6.0849983 ,  12.2925927 ],\n",
       "       [ -2.24122279,  -1.7594011 ],\n",
       "       [  6.68630243,   1.36732098],\n",
       "       [ -3.11589262,  -0.63299753],\n",
       "       [ 14.27110487,  12.6360878 ],\n",
       "       [  5.71258963,  -3.83320374],\n",
       "       [  7.97691316,   7.35965844],\n",
       "       [  1.72330021,  11.51129376],\n",
       "       [ -2.44223711,  30.78346802],\n",
       "       [ 26.53324175,   4.42231041],\n",
       "       [ 19.80935321,   1.45484259],\n",
       "       [  0.97165708,  24.71813433],\n",
       "       [  4.55321833,   1.24695194],\n",
       "       [ -3.37824688,  12.1442431 ],\n",
       "       [  6.97858615, -13.71805299],\n",
       "       [  2.83071803,  11.61046825],\n",
       "       [-12.44156099,  24.05006295],\n",
       "       [-23.58167236,  -5.24454179],\n",
       "       [  7.35866008,   4.07059396],\n",
       "       [  8.70062713,   9.97728232],\n",
       "       [ 19.76270494,  -0.89871869],\n",
       "       [ -0.62313205,   3.37190027],\n",
       "       [  4.90279278,  16.19475914],\n",
       "       [  4.14996038,   4.32880232],\n",
       "       [ -1.192316  ,  -6.3704638 ]])"
      ]
     },
     "execution_count": 50,
     "metadata": {},
     "output_type": "execute_result"
    }
   ],
   "source": [
    "rvs = stats.norm.rvs(loc=5, scale=10, size=(50,2))\n",
    "rvs"
   ]
  },
  {
   "cell_type": "code",
   "execution_count": null,
   "metadata": {},
   "outputs": [],
   "source": []
  }
 ],
 "metadata": {
  "kernelspec": {
   "display_name": "Python 3",
   "language": "python",
   "name": "python3"
  },
  "language_info": {
   "codemirror_mode": {
    "name": "ipython",
    "version": 3
   },
   "file_extension": ".py",
   "mimetype": "text/x-python",
   "name": "python",
   "nbconvert_exporter": "python",
   "pygments_lexer": "ipython3",
   "version": "3.7.4"
  }
 },
 "nbformat": 4,
 "nbformat_minor": 2
}
